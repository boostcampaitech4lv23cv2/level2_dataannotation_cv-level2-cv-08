{
 "cells": [
  {
   "cell_type": "code",
   "execution_count": 1,
   "metadata": {},
   "outputs": [],
   "source": [
    "import json\n",
    "from PIL import Image"
   ]
  },
  {
   "cell_type": "code",
   "execution_count": 2,
   "metadata": {},
   "outputs": [],
   "source": [
    "anno_dir_path = './ICDAR19_annos/'\n",
    "img_dir_path = './ICDAR19_Korean/images/'"
   ]
  },
  {
   "cell_type": "code",
   "execution_count": 4,
   "metadata": {},
   "outputs": [],
   "source": [
    "# file_name = anno_dir_path + 'tr_img_' + str(5033).zfill(5) + '.txt'\n",
    "# with open(file_name, 'r', encoding=\"UTF-8\") as f:\n",
    "#     lines = f.read().split()\n",
    "# lines"
   ]
  },
  {
   "cell_type": "code",
   "execution_count": 6,
   "metadata": {},
   "outputs": [],
   "source": [
    "# check_mixed=[]\n",
    "# for idx in range(5001,6000):\n",
    "#     file_name = anno_dir_path + 'tr_img_' + str(idx).zfill(5) + '.txt'\n",
    "#     with open(file_name, 'r', encoding=\"UTF-8\") as f:\n",
    "#         lines = f.read().split()\n",
    "#     boxes=[]\n",
    "#     for i in range(len(lines)):\n",
    "#         boxes.append(lines[i].split(','))\n",
    "#     for i in range(len(boxes)):\n",
    "#         if boxes[i][8]=='Mixed':\n",
    "#             check_mixed.append(boxes[i][9])\n",
    "# print(check_mixed)"
   ]
  },
  {
   "cell_type": "code",
   "execution_count": 6,
   "metadata": {},
   "outputs": [],
   "source": [
    "dir_path = './ICDAR19_annos/'\n",
    "\n",
    "images=dict()  \n",
    "check_language={\"Korean\":[\"ko\"], \"Latin\":[\"en\"], \"Mixed\":[\"en\", \"ko\"]}\n",
    "\n",
    "for idx in range(5001,6000):\n",
    "    file_name = dir_path + 'tr_img_0' + str(idx) + '.txt'\n",
    "    with open(file_name, 'r', encoding=\"UTF-8\") as f:\n",
    "        lines = f.read().split()\n",
    "    boxes=[]\n",
    "    for i in range(len(lines)):\n",
    "        boxes.append(lines[i].split(','))\n",
    "\n",
    "    box_info=dict()\n",
    "    for i in range(len(boxes)):\n",
    "        num = str(i+1).zfill(4)\n",
    "        transcription = boxes[i][9]\n",
    "        if boxes[i][8] not in check_language:\n",
    "            continue\n",
    "        \n",
    "        box_info[num]={\n",
    "            \"transcription\" : transcription,\n",
    "            \"points\" : [\n",
    "                [float(boxes[i][0]),float(boxes[i][1])],\n",
    "                [float(boxes[i][2]),float(boxes[i][3])],\n",
    "                [float(boxes[i][4]),float(boxes[i][5])],\n",
    "                [float(boxes[i][6]),float(boxes[i][7])]\n",
    "            ],\n",
    "            \"orientation\" : \"Horizontal\",\n",
    "            \"language\" : check_language[boxes[i][8]],\n",
    "            \"tags\" : [\"excluded-region\"] if transcription=='###' else [],\n",
    "            \"confidence\" : None,\n",
    "            \"illegibility\" : False\n",
    "        }\n",
    "        \n",
    "    image_fname = 'tr_img_0' + str(idx) + '.jpg'\n",
    "    image = Image.open(img_dir_path+image_fname)\n",
    "    img_w, img_h = image.size\n",
    "\n",
    "    images[image_fname]={\n",
    "        \"paragraphs\":{},\n",
    "        \"words\":box_info,\n",
    "        \"chars\": {},\n",
    "        \"img_w\": img_w,\n",
    "        \"img_h\": img_h,\n",
    "        \"tags\": [],\n",
    "        \"relations\": {},\n",
    "        \"annotation_log\": {\n",
    "            \"worker\": \"kdi\",\n",
    "            \"timestamp\": \"2022-12-13\",\n",
    "            \"tool_version\": \"\",\n",
    "            \"source\": None\n",
    "        },\n",
    "        \"license_tag\": {\n",
    "            \"usability\": True,\n",
    "            \"public\": True,\n",
    "            \"commercial\": False,\n",
    "            \"type\": None,\n",
    "            \"holder\": \"\"\n",
    "        }\n",
    "    }\n",
    "\n",
    "f.close()\n",
    "ufo_format={\"images\":images}\n",
    "    "
   ]
  },
  {
   "cell_type": "code",
   "execution_count": 7,
   "metadata": {},
   "outputs": [],
   "source": [
    "with open('./icdar2019.json', 'w', encoding='UTF-8') as save:\n",
    "    json.dump(ufo_format, save, indent=\"\\t\")"
   ]
  },
  {
   "cell_type": "code",
   "execution_count": null,
   "metadata": {},
   "outputs": [],
   "source": []
  }
 ],
 "metadata": {
  "kernelspec": {
   "display_name": "my_project",
   "language": "python",
   "name": "python3"
  },
  "language_info": {
   "codemirror_mode": {
    "name": "ipython",
    "version": 3
   },
   "file_extension": ".py",
   "mimetype": "text/x-python",
   "name": "python",
   "nbconvert_exporter": "python",
   "pygments_lexer": "ipython3",
   "version": "3.9.13"
  },
  "orig_nbformat": 4,
  "vscode": {
   "interpreter": {
    "hash": "9f992dc107306b3a732e46b283e7d2a3b1285a33f2d32ee03f286f65949522cb"
   }
  }
 },
 "nbformat": 4,
 "nbformat_minor": 2
}
