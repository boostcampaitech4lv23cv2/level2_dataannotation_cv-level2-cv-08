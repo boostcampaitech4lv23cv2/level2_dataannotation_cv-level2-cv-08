{
 "cells": [
  {
   "cell_type": "code",
   "execution_count": 1,
   "metadata": {},
   "outputs": [],
   "source": [
    "import os\n",
    "import json\n",
    "from util import read_json"
   ]
  },
  {
   "cell_type": "code",
   "execution_count": 32,
   "metadata": {},
   "outputs": [],
   "source": [
    "PATH = \"../dataset/json\"\n",
    "split_num = [0,200,400,600,800]\n",
    "split_file = [\"update_001_200.json\",\"update_201_400.json\",\"update_401_600.json\",\"update_601_800.json\",\"update_801.json\"]\n",
    "save_filename = \"merge_all_data.json\""
   ]
  },
  {
   "cell_type": "code",
   "execution_count": 29,
   "metadata": {},
   "outputs": [],
   "source": [
    "main = read_json('../dataset/upstage_data.json')\n",
    "files = set(main['images'].keys())\n",
    "visited = set()\n",
    "for i, (file_name, val) in enumerate(main['images'].items()):\n",
    "    if i in split_num:\n",
    "        data = read_json(os.path.join(PATH, split_file[split_num.index(i)]))\n",
    "\n",
    "    if data['images'].get(file_name):\n",
    "        visited.add(file_name)\n",
    "        main['images'][file_name].update(data['images'][file_name])\n",
    "\n",
    "for rm_file in files - visited:\n",
    "    del(main['images'][rm_file])"
   ]
  },
  {
   "cell_type": "code",
   "execution_count": 34,
   "metadata": {},
   "outputs": [],
   "source": [
    "with open(os.path.join(PATH, save_filename), 'w') as outfile:\n",
    "    json.dump(main, outfile, indent=4)"
   ]
  }
 ],
 "metadata": {
  "kernelspec": {
   "display_name": "base",
   "language": "python",
   "name": "python3"
  },
  "language_info": {
   "codemirror_mode": {
    "name": "ipython",
    "version": 3
   },
   "file_extension": ".py",
   "mimetype": "text/x-python",
   "name": "python",
   "nbconvert_exporter": "python",
   "pygments_lexer": "ipython3",
   "version": "3.8.5 (default, Sep  4 2020, 07:30:14) \n[GCC 7.3.0]"
  },
  "orig_nbformat": 4,
  "vscode": {
   "interpreter": {
    "hash": "d4d1e4263499bec80672ea0156c357c1ee493ec2b1c70f0acce89fc37c4a6abe"
   }
  }
 },
 "nbformat": 4,
 "nbformat_minor": 2
}
